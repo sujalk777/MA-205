{
 "cells": [
  {
   "cell_type": "code",
   "execution_count": 1,
   "metadata": {},
   "outputs": [],
   "source": [
    "import numpy as np\n",
    "k=np.array([0.03527113070161999,0.03298570883618668,0.049818332934007004,0.04211896995771678,0.0460246994538232,0.044693420735933215])\n"
   ]
  },
  {
   "cell_type": "code",
   "execution_count": 4,
   "metadata": {},
   "outputs": [
    {
     "name": "stdout",
     "output_type": "stream",
     "text": [
      "[-0.09664672  0.59483564 -0.4140549   0.30825683 -0.13153817]\n"
     ]
    }
   ],
   "source": [
    "c=[1e3,2e3,4e3,6e3,8e3,1e4]\n",
    "z=np.zeros(5)\n",
    "for i in range(5):\n",
    "    z[i]=np.log10(k[i+1]/k[i])/np.log10(c[i+1]/c[i])\n",
    "print(z)    \n",
    "    "
   ]
  }
 ],
 "metadata": {
  "kernelspec": {
   "display_name": "Python 3",
   "language": "python",
   "name": "python3"
  },
  "language_info": {
   "codemirror_mode": {
    "name": "ipython",
    "version": 3
   },
   "file_extension": ".py",
   "mimetype": "text/x-python",
   "name": "python",
   "nbconvert_exporter": "python",
   "pygments_lexer": "ipython3",
   "version": "3.11.8"
  }
 },
 "nbformat": 4,
 "nbformat_minor": 2
}
